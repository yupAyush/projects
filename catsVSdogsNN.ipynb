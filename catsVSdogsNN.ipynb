{
 "cells": [
  {
   "cell_type": "code",
   "execution_count": 2,
   "id": "b1bd3330-ee0f-4558-a93b-d4448dfc4a50",
   "metadata": {},
   "outputs": [],
   "source": [
    "from tensorflow.keras.models import Sequential\n",
    "from tensorflow.keras.layers import Conv2D,MaxPooling2D,Dense,Flatten\n",
    "import numpy as np"
   ]
  },
  {
   "cell_type": "code",
   "execution_count": 3,
   "id": "23670b44-e94d-4fba-9c9b-a5ca5e794e09",
   "metadata": {},
   "outputs": [],
   "source": [
    "x_train=np.loadtxt('input.csv' , delimiter=',') #loading data\n",
    "y_train=np.loadtxt('labels.csv' , delimiter=',')\n",
    "\n",
    "x_test=np.loadtxt('input_test.csv' , delimiter=',')\n",
    "y_test=np.loadtxt('labels_test.csv' , delimiter=',')"
   ]
  },
  {
   "cell_type": "code",
   "execution_count": 4,
   "id": "92842698-4f8a-4e8f-b374-1d3336a6f798",
   "metadata": {},
   "outputs": [],
   "source": [
    "x_train=x_train.reshape(len(x_train),100,100,3)\n",
    "y_train=y_train.reshape(len(y_train),1)          #reshaping data\n",
    "x_test=x_test.reshape(len(x_test),100,100,3)\n",
    "y_test=y_test.reshape(len(y_test),1)\n",
    "\n",
    "x_train=x_train/255.0\n",
    "x_test=x_test/255.0"
   ]
  },
  {
   "cell_type": "code",
   "execution_count": 5,
   "id": "1e393c6b-9007-4e72-aba9-a38ace7bdc3a",
   "metadata": {},
   "outputs": [
    {
     "data": {
      "text/plain": [
       "array([[[0.51372549, 0.50196078, 0.52941176],\n",
       "        [0.62745098, 0.61568627, 0.64313725],\n",
       "        [0.77647059, 0.75294118, 0.8       ],\n",
       "        ...,\n",
       "        [0.98039216, 0.97647059, 0.96862745],\n",
       "        [1.        , 1.        , 0.99215686],\n",
       "        [0.98039216, 0.97647059, 0.96078431]],\n",
       "\n",
       "       [[0.54901961, 0.5372549 , 0.56470588],\n",
       "        [0.49803922, 0.48627451, 0.51372549],\n",
       "        [0.47058824, 0.44705882, 0.48627451],\n",
       "        ...,\n",
       "        [0.98431373, 0.99215686, 0.98823529],\n",
       "        [0.99607843, 1.        , 0.99215686],\n",
       "        [0.99607843, 1.        , 0.98431373]],\n",
       "\n",
       "       [[0.8       , 0.79215686, 0.81176471],\n",
       "        [0.73333333, 0.7254902 , 0.74509804],\n",
       "        [0.57647059, 0.55686275, 0.58039216],\n",
       "        ...,\n",
       "        [0.97647059, 1.        , 1.        ],\n",
       "        [0.93333333, 0.96862745, 0.94901961],\n",
       "        [0.90980392, 0.94509804, 0.9254902 ]],\n",
       "\n",
       "       ...,\n",
       "\n",
       "       [[0.68235294, 0.71372549, 0.76470588],\n",
       "        [0.6745098 , 0.70588235, 0.75686275],\n",
       "        [0.69803922, 0.72941176, 0.77254902],\n",
       "        ...,\n",
       "        [0.34117647, 0.44705882, 0.38039216],\n",
       "        [0.29411765, 0.38823529, 0.3254902 ],\n",
       "        [0.31372549, 0.41176471, 0.3372549 ]],\n",
       "\n",
       "       [[0.65098039, 0.67843137, 0.74117647],\n",
       "        [0.64313725, 0.6745098 , 0.7254902 ],\n",
       "        [0.6745098 , 0.70588235, 0.75686275],\n",
       "        ...,\n",
       "        [0.30588235, 0.41568627, 0.32941176],\n",
       "        [0.28235294, 0.38039216, 0.29803922],\n",
       "        [0.30196078, 0.4       , 0.31764706]],\n",
       "\n",
       "       [[0.67843137, 0.70588235, 0.76862745],\n",
       "        [0.6745098 , 0.70196078, 0.76470588],\n",
       "        [0.68235294, 0.71372549, 0.76470588],\n",
       "        ...,\n",
       "        [0.24705882, 0.35686275, 0.27058824],\n",
       "        [0.24313725, 0.34117647, 0.25490196],\n",
       "        [0.27843137, 0.37647059, 0.29019608]]])"
      ]
     },
     "execution_count": 5,
     "metadata": {},
     "output_type": "execute_result"
    }
   ],
   "source": [
    "x_train[1,:]"
   ]
  },
  {
   "cell_type": "markdown",
   "id": "8f1708d6-ae4a-409c-a475-6564397c70cf",
   "metadata": {},
   "source": [
    "model"
   ]
  },
  {
   "cell_type": "code",
   "execution_count": 7,
   "id": "9d637825-cb8e-4c3e-ae12-ac5ab7910820",
   "metadata": {},
   "outputs": [],
   "source": [
    "model =Sequential([\n",
    "\n",
    "Conv2D(32,(3,3),activation='relu',input_shape=(100,100,3)),   #creating a model\n",
    "MaxPooling2D((2,2)),\n",
    "Conv2D(32,(3,3),activation='relu'),\n",
    "MaxPooling2D((2,2)),\n",
    "Flatten(),\n",
    "Dense(64,activation='relu'),   \n",
    "Dense(1,activation='sigmoid')       \n",
    "\n",
    "])\n",
    "\n"
   ]
  },
  {
   "cell_type": "code",
   "execution_count": 8,
   "id": "51474bca-ba79-4e4a-b3b7-80d0c9feedc4",
   "metadata": {},
   "outputs": [],
   "source": [
    "model.compile(optimizer='adam',loss='binary_crossentropy',metrics=['accuracy']) #backpropagation"
   ]
  },
  {
   "cell_type": "code",
   "execution_count": 11,
   "id": "57dfc253-5d7d-460e-b478-3cb134f668ee",
   "metadata": {},
   "outputs": [
    {
     "name": "stdout",
     "output_type": "stream",
     "text": [
      "Epoch 1/5\n",
      "\u001b[1m32/32\u001b[0m \u001b[32m━━━━━━━━━━━━━━━━━━━━\u001b[0m\u001b[37m\u001b[0m \u001b[1m18s\u001b[0m 573ms/step - accuracy: 0.9382 - loss: 0.1636\n",
      "Epoch 2/5\n",
      "\u001b[1m32/32\u001b[0m \u001b[32m━━━━━━━━━━━━━━━━━━━━\u001b[0m\u001b[37m\u001b[0m \u001b[1m18s\u001b[0m 574ms/step - accuracy: 0.9687 - loss: 0.1059\n",
      "Epoch 3/5\n",
      "\u001b[1m32/32\u001b[0m \u001b[32m━━━━━━━━━━━━━━━━━━━━\u001b[0m\u001b[37m\u001b[0m \u001b[1m19s\u001b[0m 577ms/step - accuracy: 0.9809 - loss: 0.0686\n",
      "Epoch 4/5\n",
      "\u001b[1m32/32\u001b[0m \u001b[32m━━━━━━━━━━━━━━━━━━━━\u001b[0m\u001b[37m\u001b[0m \u001b[1m18s\u001b[0m 571ms/step - accuracy: 0.9961 - loss: 0.0398\n",
      "Epoch 5/5\n",
      "\u001b[1m32/32\u001b[0m \u001b[32m━━━━━━━━━━━━━━━━━━━━\u001b[0m\u001b[37m\u001b[0m \u001b[1m18s\u001b[0m 570ms/step - accuracy: 0.9998 - loss: 0.0299\n"
     ]
    },
    {
     "data": {
      "text/plain": [
       "<keras.src.callbacks.history.History at 0x7f4d10ff7ca0>"
      ]
     },
     "execution_count": 11,
     "metadata": {},
     "output_type": "execute_result"
    }
   ],
   "source": [
    "model.fit(x_train,y_train,epochs=5,batch_size=64) #training data"
   ]
  },
  {
   "cell_type": "code",
   "execution_count": 13,
   "id": "fe2e7759-2019-4751-8306-e8ce07796122",
   "metadata": {},
   "outputs": [
    {
     "name": "stdout",
     "output_type": "stream",
     "text": [
      "\u001b[1m13/13\u001b[0m \u001b[32m━━━━━━━━━━━━━━━━━━━━\u001b[0m\u001b[37m\u001b[0m \u001b[1m1s\u001b[0m 82ms/step - accuracy: 0.5813 - loss: 2.0791\n"
     ]
    },
    {
     "data": {
      "text/plain": [
       "[1.5469391345977783, 0.6399999856948853]"
      ]
     },
     "execution_count": 13,
     "metadata": {},
     "output_type": "execute_result"
    }
   ],
   "source": [
    "model.evaluate(x_test,y_test)\n",
    "#checking data"
   ]
  },
  {
   "cell_type": "code",
   "execution_count": 48,
   "id": "38c3cca8-ce4e-4488-9465-ceff239accf8",
   "metadata": {},
   "outputs": [
    {
     "data": {
      "image/png": "[encoded data removed]",
      "text/plain": [
       "<Figure size 640x480 with 1 Axes>"
      ]
     },
     "metadata": {},
     "output_type": "display_data"
    },
    {
     "name": "stdout",
     "output_type": "stream",
     "text": [
      "\u001b[1m1/1\u001b[0m \u001b[32m━━━━━━━━━━━━━━━━━━━━\u001b[0m\u001b[37m\u001b[0m \u001b[1m0s\u001b[0m 36ms/step\n",
      "ITS A FUCKIN : cat\n"
     ]
    }
   ],
   "source": [
    "import matplotlib.pyplot as plt\n",
    "import random\n",
    "idx=random.randint(0,len(x_test))\n",
    "plt.imshow(x_train[idx,:])\n",
    "plt.show()\n",
    "\n",
    "y_pred=model.predict(x_test[idx,:].reshape(1,100,100,3))\n",
    "y_pred=y_pred>0.5\n",
    "\n",
    "if(y_pred==0):\n",
    "  pred=\"dog\"\n",
    "else:\n",
    "  pred=\"cat\"\n",
    "\n",
    "\n",
    "print(\"ITS A FUCKIN :\",pred)\n"
   ]
  },
  {
   "cell_type": "code",
   "execution_count": 49,
   "id": "826b4cf2-e332-47ff-9213-a7935502da04",
   "metadata": {},
   "outputs": [
    {
     "name": "stderr",
     "output_type": "stream",
     "text": [
      "WARNING:absl:You are saving your model as an HDF5 file via `model.save()` or `keras.saving.save_model(model)`. This file format is considered legacy. We recommend using instead the native Keras format, e.g. `model.save('my_model.keras')` or `keras.saving.save_model(model, 'my_model.keras')`. \n"
     ]
    },
    {
     "name": "stdout",
     "output_type": "stream",
     "text": [
      "Model Saved!\n"
     ]
    },
    {
     "ename": "NameError",
     "evalue": "name 'load_model' is not defined",
     "output_type": "error",
     "traceback": [
      "\u001b[0;31m---------------------------------------------------------------------------\u001b[0m",
      "\u001b[0;31mNameError\u001b[0m                                 Traceback (most recent call last)",
      "Cell \u001b[0;32mIn[49], line 5\u001b[0m\n\u001b[1;32m      2\u001b[0m \u001b[38;5;28mprint\u001b[39m(\u001b[38;5;124m'\u001b[39m\u001b[38;5;124mModel Saved!\u001b[39m\u001b[38;5;124m'\u001b[39m)\n\u001b[1;32m      4\u001b[0m \u001b[38;5;66;03m# load model\u001b[39;00m\n\u001b[0;32m----> 5\u001b[0m savedModel\u001b[38;5;241m=\u001b[39m\u001b[43mload_model\u001b[49m(\u001b[38;5;124m'\u001b[39m\u001b[38;5;124m catsVSdogs.h5\u001b[39m\u001b[38;5;124m'\u001b[39m)\n\u001b[1;32m      6\u001b[0m savedModel\u001b[38;5;241m.\u001b[39msummary()\n",
      "\u001b[0;31mNameError\u001b[0m: name 'load_model' is not defined"
     ]
    }
   ],
   "source": [
    "# saving and loading the model weights\n",
    "\n",
    "# save model\n",
    "model.save_weights('catsVSdogs.h5')\n",
    "print('Model Saved!')\n",
    "\n",
    "# load model\n",
    "savedModel = model.load_weights('cats')\n",
    "print('Model Loaded!')\n",
    "\n"
   ]
  },
  {
   "cell_type": "code",
   "execution_count": null,
   "id": "6c751116-efc7-4c1a-b133-ed08c14b4f99",
   "metadata": {},
   "outputs": [],
   "source": []
  },
  {
   "cell_type": "code",
   "execution_count": null,
   "id": "496668fb-36b5-48e4-a611-10b0b37fc7cc",
   "metadata": {},
   "outputs": [],
   "source": []
  },
  {
   "cell_type": "code",
   "execution_count": null,
   "id": "6ff8210b-da0b-44dc-a947-c1bec7898251",
   "metadata": {},
   "outputs": [],
   "source": []
  }
 ],
 "metadata": {
  "kernelspec": {
   "display_name": "Python 3 (ipykernel)",
   "language": "python",
   "name": "python3"
  },
  "language_info": {
   "codemirror_mode": {
    "name": "ipython",
    "version": 3
   },
   "file_extension": ".py",
   "mimetype": "text/x-python",
   "name": "python",
   "nbconvert_exporter": "python",
   "pygments_lexer": "ipython3",
   "version": "3.9.2"
  }
 },
 "nbformat": 4,
 "nbformat_minor": 5
}
